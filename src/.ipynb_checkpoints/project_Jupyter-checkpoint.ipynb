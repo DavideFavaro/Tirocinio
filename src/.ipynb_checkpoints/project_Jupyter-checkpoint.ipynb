{
 "cells": [
  {
   "cell_type": "markdown",
   "id": "16a22b5b",
   "metadata": {},
   "source": [
    "## Loading of modules and packages"
   ]
  },
  {
   "cell_type": "markdown",
   "id": "53905509",
   "metadata": {},
   "source": [
    "Activate the Julia environment of the project."
   ]
  },
  {
   "cell_type": "code",
   "execution_count": null,
   "id": "23aa68e7",
   "metadata": {},
   "outputs": [],
   "source": [
    "using Pkg\n",
    "Pkg.activate(\"..\\\\\")"
   ]
  },
  {
   "cell_type": "markdown",
   "id": "06ab1ca8",
   "metadata": {},
   "source": [
    "Load the necessary packages."
   ]
  },
  {
   "cell_type": "code",
   "execution_count": null,
   "id": "a6551f59",
   "metadata": {},
   "outputs": [],
   "source": [
    "using ArchGDAL"
   ]
  },
  {
   "cell_type": "markdown",
   "id": "9a7a040e",
   "metadata": {},
   "source": [
    "Load the necessary modules."
   ]
  },
  {
   "cell_type": "code",
   "execution_count": null,
   "id": "a21d199f",
   "metadata": {},
   "outputs": [],
   "source": [
    "include(\".\\\\Data Gathering\\\\GroundData.jl\")\n",
    "include(\".\\\\Data Gathering\\\\SatelliteData.jl\")\n",
    "include(\".\\\\Analysis\\\\DiluitionAttenuationFactor.jl\")\n",
    "include(\".\\\\Analysis\\\\Lakes.jl\")\n",
    "include(\".\\\\Analysis\\\\Noises.jl\")\n",
    "include(\".\\\\Analysis\\\\Plumes.jl\")\n",
    "include(\".\\\\Analysis\\\\Sediments.jl\")"
   ]
  },
  {
   "cell_type": "markdown",
   "id": "0dab2b37",
   "metadata": {},
   "source": [
    "\n",
    "Aliasing of the modules to shorten the code."
   ]
  },
  {
   "cell_type": "code",
   "execution_count": null,
   "id": "db7be5e2",
   "metadata": {},
   "outputs": [],
   "source": [
    "# Modules\n",
    "const agd = ArchGDAL\n",
    "\n",
    "# Data gathering\n",
    "const grdt = GroundData\n",
    "const stdt = SatelliteData\n",
    "\n",
    "# Data Analysis\n",
    "const daf = DiluitionAttenuationFactor \n",
    "const lakes = Lakes\n",
    "const noises = Noises\n",
    "const plumes = Plumes\n",
    "const sediments = Sediments"
   ]
  },
  {
   "cell_type": "markdown",
   "id": "a401131c",
   "metadata": {},
   "source": [
    " "
   ]
  },
  {
   "cell_type": "markdown",
   "id": "24ec6c7d",
   "metadata": {},
   "source": [
    " "
   ]
  },
  {
   "cell_type": "markdown",
   "id": "47cbe7d7",
   "metadata": {},
   "source": [
    "## Code testing "
   ]
  },
  {
   "cell_type": "markdown",
   "id": "6aec8bd9",
   "metadata": {},
   "source": [
    "#### Data Gathering testing"
   ]
  },
  {
   "cell_type": "code",
   "execution_count": null,
   "id": "6c91da2d",
   "metadata": {},
   "outputs": [],
   "source": [
    "grdt.getGroundData( :METEO, grdt.AA, grdt.FVG, grdt.L, grdt.T, grdt.V )"
   ]
  },
  {
   "cell_type": "markdown",
   "id": "efcc2752",
   "metadata": {},
   "source": [
    "#### Data Analysis testing"
   ]
  },
  {
   "cell_type": "markdown",
   "id": "fec2f1e5",
   "metadata": {},
   "source": [
    "##### Initial Setup"
   ]
  },
  {
   "cell_type": "code",
   "execution_count": null,
   "id": "ebfcb434",
   "metadata": {},
   "outputs": [],
   "source": [
    "# Digital Terrain Model, the main raster for the analysis, reppresents Veneto\n",
    "dtm_file = \"..\\\\resources\\\\Analysis data\\\\DTM_32.tiff\"\n",
    "dtm = agd.read(dtm_file)"
   ]
  },
  {
   "cell_type": "markdown",
   "id": "278fa26c",
   "metadata": {},
   "source": [
    "Create a source point to test the analysis functions."
   ]
  },
  {
   "cell_type": "code",
   "execution_count": null,
   "id": "b92fc9c3",
   "metadata": {},
   "outputs": [],
   "source": [
    "# Coordinates of the source\n",
    "# lat, lon = (726454.9302346368, 5.025993899219433e6)\n",
    "lat, lon = (11.930065824163105, 45.425861311724816) # WGS84\n",
    "# Path to the source shapefile\n",
    "source_dir = \"..\\\\resources\\\\Analysis data\\\\source_shapefile\"\n",
    "# Directory holding the `source` files\n",
    "!isdir(source_dir) && mkdir(source_dir)\n",
    "# Creation of a shapefile containing the point if not already existing\n",
    "if \"source.shp\" ∉ readdir(source_dir)\n",
    "    agd.create(\n",
    "        source_dir*\"\\\\source.shp\",\n",
    "        driver = agd.getdriver(\"ESRI Shapefile\")\n",
    "    ) do ds\n",
    "        agd.createlayer(\n",
    "            geom = agd.wkbPoint,\n",
    "            spatialref = agd.importEPSG(4326)\n",
    "        ) do layer\n",
    "            agd.createfeature(layer) do feature\n",
    "                agd.setgeom!(feature, agd.createpoint(lat, lon))\n",
    "            end\n",
    "            agd.copy(layer, dataset=ds)\n",
    "        end\n",
    "    end\n",
    "end\n",
    "source_file = source_dir*\"\\\\source.shp\"\n",
    "source = agd.read(source_file)"
   ]
  },
  {
   "cell_type": "markdown",
   "id": "e721d3b1",
   "metadata": {},
   "source": [
    "Analysis functions execution."
   ]
  },
  {
   "cell_type": "markdown",
   "id": "9424b025",
   "metadata": {},
   "source": [
    "Pollutants leaching."
   ]
  },
  {
   "cell_type": "code",
   "execution_count": null,
   "id": "2bad82b7",
   "metadata": {},
   "outputs": [],
   "source": [
    "#=\n",
    "contaminants: (vettore di String)\n",
    "    nomi della sostanze da usare per estrarre i valori \"c_henry\", \"koc_kd\" dal database.\n",
    "concentrations: (vettore di Float64)\n",
    "    concentrazioni delle sostanze.\n",
    "aquifer_depth: (Float64)\n",
    "    profondità della falda.\n",
    "acquifer_flow_direction: (Int64)\n",
    "    angolo del flusso dell'aqua nella falda in gradi (credo?)\n",
    "mean_rainfall: (Float64)\n",
    "    pioggia media\n",
    "texture: (String)\n",
    "    credo sia la tipologia di terreno in cui filtrano gli inquinanti, da usare per estrarre i valori \"tot_por\", \"c_water_avg\", \"effective_infiltration\",\n",
    "    \"por_eff\", \"grain\" dal database.\n",
    "orthogonal_extension: (Float64)\n",
    "    estensione ortogonale?\n",
    "soil_density: (Float64)\n",
    "    densità del suolo\n",
    "source_thickness: (Float64)\n",
    "    spessore fonte?\n",
    "darcy_velocity: (Float64)\n",
    "    velocità di Darcy?\n",
    "mixed_zone_depth: (Float64)\n",
    "    profondità zoma mista?\n",
    "decay_coeff: (Float64)\n",
    "    coefficiente di decadimento?\n",
    "=#\n",
    "daf.run_leach(source_file, contaminants, concentrations, aquifer_depth,\n",
    "    acquifer_flow_direction, mean_rainfall, texture, 25, time,\n",
    "    orthogonal_extension, soil_density, source_thickness, darcy_velocity,\n",
    "    mixed_zone_depth, decay_coeff, algorithm,\n",
    "    \"..\\\\resources\\\\Analysis test data\\\\Analysis results\\\\daf.tiff\")"
   ]
  },
  {
   "cell_type": "markdown",
   "id": "5a2bf6c4",
   "metadata": {},
   "source": [
    "Polutants dispersion in lakes."
   ]
  },
  {
   "cell_type": "code",
   "execution_count": null,
   "id": "dec530b3",
   "metadata": {},
   "outputs": [],
   "source": [
    "#=\n",
    "wind_direction: (Int64)\n",
    "    direzione del vento come angolo in gradi.\n",
    "pollutant_mass: (Float64)\n",
    "    massa dell'inquinante.\n",
    "flow_mean_speed: (Float64)\n",
    "    velocità del flusso.\n",
    "hours: (Int64)\n",
    "    durata dell'analisi in ore.\n",
    "fickian_x: (Float64)\n",
    "    ?\n",
    "fickian_y: (Float64)\n",
    "    ?\n",
    "λk: (Float64)\n",
    "    ?\n",
    "=#\n",
    "lakes.run_lake(source_file, wind_direction, pollutant_mass, flow_mean_speed, 25,\n",
    "    hours, fickian_x, fickian_y, λk,\n",
    "    \"..\\\\resources\\\\Analysis test data\\\\Analysis results\\\\lake.tiff\")"
   ]
  },
  {
   "cell_type": "markdown",
   "id": "144530bd",
   "metadata": {},
   "source": [
    "Noise pollution"
   ]
  },
  {
   "cell_type": "code",
   "execution_count": null,
   "id": "db9feb88",
   "metadata": {},
   "outputs": [],
   "source": [
    "#=\n",
    "\"A\" sostituisce il raster delle impedenze (nel codice uso una matrice contenente solo 0)\n",
    "temperatura atmosferica in kelvin\n",
    "umidità relativa (credo come percentuale in decimale)\n",
    "intensità del suono\n",
    "frequenza del suono\n",
    "=#\n",
    "noises.run_noise( dtm_file, \"A\", source_file, 293.15, 0.2, 110.0, 400.0 )"
   ]
  },
  {
   "cell_type": "markdown",
   "id": "347f99d4",
   "metadata": {},
   "source": [
    "Airborne pollutants dispersion from a stack."
   ]
  },
  {
   "cell_type": "code",
   "execution_count": null,
   "id": "3510eb6d",
   "metadata": {},
   "outputs": [],
   "source": [
    "#=\n",
    "stability: (String)\n",
    "    classe di stabilità da usare per ottenere     dal database.\n",
    "wind_direction: (Int64)\n",
    "    direzione del vento come angolo.\n",
    "concentration: (Float64)\n",
    "    concentrazione della sostanza.\n",
    "wind_speed: (Float64)\n",
    "    velocità del vento.\n",
    "stack_height: (Float64)\n",
    "    altezza del camino.\n",
    "gas_speed: (Float64)\n",
    "    velocità dei fumi?\n",
    "stack_diameter: (Float64)\n",
    "    diametro del camino.\n",
    "smoke_temperature: (Float64)\n",
    "    temperatura dei fumi.\n",
    "temperature: (Float64)\n",
    "    temperatura dell'ambiente.\n",
    "=#\n",
    "plumes.run_plume(dtm_file, source_file, stability, 25, wind_direction, concentration,\n",
    "    wind_speed, stack_height, gas_speed, stack_diameter, smoke_temperature,\n",
    "    temperature,\n",
    "    \"..\\\\resources\\\\Analysis test data\\\\Analysis results\\\\plumes.tiff\")"
   ]
  },
  {
   "cell_type": "markdown",
   "id": "fd298b55",
   "metadata": {},
   "source": [
    "Pollutants dispersion in flowing water."
   ]
  },
  {
   "cell_type": "code",
   "execution_count": null,
   "id": "0e3b8f75",
   "metadata": {},
   "outputs": [],
   "source": [
    "#=\n",
    "mean_flow_speed: (Float64)\n",
    "    velocità media della corrente.\n",
    "mean_depth: (Float64)\n",
    "    profondità media.\n",
    "x_dispersion_coeff: (Float64)\n",
    "    coefficiente di dispersione su x?\n",
    "y_dispersion_coeff: (Float64)\n",
    "    coefficiente di dispersione su y?\n",
    "dredged_mass: (Float64)\n",
    "    massa trasportata.\n",
    "flow_direction: (Int64)\n",
    "    direzione del flusso come angolo in gradi.\n",
    "mean_sedimentation_velocity: (Float64)\n",
    "    velocità di sedimentazione.\n",
    "time: (Int64)\n",
    "    tempo di inizio del modello.\n",
    "time_intreval: (Int64)\n",
    "    lunghezza di un'epoca.\n",
    "current_oscillatory_amplitude: (Float64)\n",
    "    ampiezza di oscillazione della corrente?\n",
    "tide: (Int64)\n",
    "    ciclo di marea in ore?.\n",
    "=#\n",
    "sediments.run_sediment(dtm_file, source_file, 25, mean_flow_speed, mean_depth,\n",
    "    x_dispersion_coeff, y_dispersion_coeff, dredged_mass, flow_direction,\n",
    "    mean_sedimentation_velocity, time, time_intreval,\n",
    "    current_oscillatory_amplitude, tide,\n",
    "    \"..\\\\resources\\\\Analysis test data\\\\Analysis results\\\\sediments.tiff\")"
   ]
  }
 ],
 "metadata": {
  "kernelspec": {
   "display_name": "Julia 1.7.1",
   "language": "julia",
   "name": "julia-1.7"
  },
  "language_info": {
   "file_extension": ".jl",
   "mimetype": "application/julia",
   "name": "julia",
   "version": "1.7.1"
  }
 },
 "nbformat": 4,
 "nbformat_minor": 5
}
