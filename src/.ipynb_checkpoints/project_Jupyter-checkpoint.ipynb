{
 "cells": [
  {
   "cell_type": "markdown",
   "id": "16a22b5b",
   "metadata": {},
   "source": [
    "## Loading of modules and packages"
   ]
  },
  {
   "cell_type": "markdown",
   "id": "53905509",
   "metadata": {},
   "source": [
    "Activate the Julia environment of the project."
   ]
  },
  {
   "cell_type": "code",
   "execution_count": null,
   "id": "23aa68e7",
   "metadata": {},
   "outputs": [],
   "source": [
    "using Pkg\n",
    "Pkg.activate(\"..\\\\\")"
   ]
  },
  {
   "cell_type": "markdown",
   "id": "06ab1ca8",
   "metadata": {},
   "source": [
    "Load the necessary packages."
   ]
  },
  {
   "cell_type": "code",
   "execution_count": null,
   "id": "a6551f59",
   "metadata": {},
   "outputs": [],
   "source": [
    "using ArchGDAL"
   ]
  },
  {
   "cell_type": "markdown",
   "id": "9a7a040e",
   "metadata": {},
   "source": [
    "Load the necessary modules."
   ]
  },
  {
   "cell_type": "code",
   "execution_count": null,
   "id": "a21d199f",
   "metadata": {},
   "outputs": [],
   "source": [
    "include(\".\\\\Data Gathering\\\\GroundData.jl\")\n",
    "include(\".\\\\Data Gathering\\\\SatelliteData.jl\")\n",
    "include(\".\\\\Analysis\\\\DiluitionAttenuationFactor.jl\")\n",
    "include(\".\\\\Analysis\\\\Lakes.jl\")\n",
    "include(\".\\\\Analysis\\\\Plumes.jl\")\n",
    "include(\".\\\\Analysis\\\\Sediments.jl\")"
   ]
  },
  {
   "cell_type": "markdown",
   "id": "0dab2b37",
   "metadata": {},
   "source": [
    "\n",
    "Aliasing of the modules to shorten the code."
   ]
  },
  {
   "cell_type": "code",
   "execution_count": null,
   "id": "db7be5e2",
   "metadata": {},
   "outputs": [],
   "source": [
    "# Modules\n",
    "const agd = ArchGDAL\n",
    "\n",
    "# Data gathering\n",
    "const grdt = GroundData\n",
    "const stdt = SatelliteData\n",
    "\n",
    "# Data Analysis\n",
    "const daf = DiluitionAttenuationFactor \n",
    "const lakes = Lakes\n",
    "const plumes = Plumes\n",
    "const sediments = Sediments"
   ]
  },
  {
   "cell_type": "markdown",
   "id": "a401131c",
   "metadata": {},
   "source": [
    " "
   ]
  },
  {
   "cell_type": "markdown",
   "id": "24ec6c7d",
   "metadata": {},
   "source": [
    " "
   ]
  },
  {
   "cell_type": "markdown",
   "id": "47cbe7d7",
   "metadata": {},
   "source": [
    "## Code testing "
   ]
  },
  {
   "cell_type": "markdown",
   "id": "6aec8bd9",
   "metadata": {},
   "source": [
    "#### Data Gathering testing"
   ]
  },
  {
   "cell_type": "code",
   "execution_count": null,
   "id": "6c91da2d",
   "metadata": {},
   "outputs": [],
   "source": [
    "grdt.getGroundData( :METEO, grdt.AA, grdt.FVG, grdt.L, grdt.T, grdt.V )"
   ]
  },
  {
   "cell_type": "markdown",
   "id": "efcc2752",
   "metadata": {},
   "source": [
    "#### Data Analysis testing"
   ]
  },
  {
   "cell_type": "markdown",
   "id": "fec2f1e5",
   "metadata": {},
   "source": [
    "##### Initial Setup"
   ]
  },
  {
   "cell_type": "code",
   "execution_count": null,
   "id": "ebfcb434",
   "metadata": {},
   "outputs": [],
   "source": [
    "# Digital Terrain Model, the main raster for the analysis, reppresents Veneto\n",
    "dtm = agd.read(\"..\\\\resources\\\\Analysis test data\\\\DTM_wgs84.tiff\")"
   ]
  },
  {
   "cell_type": "markdown",
   "id": "278fa26c",
   "metadata": {},
   "source": [
    "Create a source point to test the analysis functions."
   ]
  },
  {
   "cell_type": "code",
   "execution_count": null,
   "id": "b92fc9c3",
   "metadata": {},
   "outputs": [],
   "source": [
    "# Coordinates of the source\n",
    "# lat, lon = (726454.9302346368, 5.025993899219433e6)\n",
    "lat, lon = (11.930065824163105, 45.425861311724816) # WGS84\n",
    "# Path to the source shapefile\n",
    "source_dir = \"..\\\\resources\\\\Analysis test data\\\\source_shapefile\"\n",
    "# Directory holding the `source` files\n",
    "!isdir(source_dir) && mkdir(source_dir)\n",
    "# Creation of a shapefile containing the point if not already existing\n",
    "if \"source.shp\" ∉ readdir(source_dir)\n",
    "    agd.create(\n",
    "        source_dir*\"\\\\source.shp\",\n",
    "        driver = agd.getdriver(\"ESRI Shapefile\")\n",
    "    ) do ds\n",
    "        agd.createlayer(\n",
    "            geom = agd.wkbPoint,\n",
    "            spatialref = agd.importEPSG(4326)\n",
    "        ) do layer\n",
    "            agd.createfeature(layer) do feature\n",
    "                agd.setgeom!(feature, agd.createpoint(lat, lon))\n",
    "            end\n",
    "            agd.copy(layer, dataset=ds)\n",
    "        end\n",
    "    end\n",
    "end\n",
    "source = agd.read(source_dir*\"\\\\source.shp\")"
   ]
  },
  {
   "cell_type": "markdown",
   "id": "e721d3b1",
   "metadata": {},
   "source": [
    "Analysis functions execution."
   ]
  },
  {
   "cell_type": "markdown",
   "id": "9424b025",
   "metadata": {},
   "source": [
    "Pollutants leaching."
   ]
  },
  {
   "cell_type": "code",
   "execution_count": null,
   "id": "2bad82b7",
   "metadata": {},
   "outputs": [],
   "source": [
    "daf.run_leach(source, contaminants, concentrations, aquifer_depth,\n",
    "    acquifer_flow_direction, mean_rainfall, texture, 25, time,\n",
    "    orthogonal_extension, soil_density, source_thickness, darcy_velocity,\n",
    "    mixed_zone_depth, decay_coeff, algorithm,\n",
    "    \"..\\\\resources\\\\Analysis test data\\\\Analysis results\\\\daf.tiff\")"
   ]
  },
  {
   "cell_type": "markdown",
   "id": "5a2bf6c4",
   "metadata": {},
   "source": [
    "Polutants dispersion in lakes."
   ]
  },
  {
   "cell_type": "code",
   "execution_count": null,
   "id": "dec530b3",
   "metadata": {},
   "outputs": [],
   "source": [
    "lakes.run_lake(source, wind_direction, pollutant_mass, flow_mean_speed, 25,\n",
    "    hours, fickian_x, fickian_y, λk,\n",
    "    \"..\\\\resources\\\\Analysis test data\\\\Analysis results\\\\lake.tiff\")"
   ]
  },
  {
   "cell_type": "markdown",
   "id": "347f99d4",
   "metadata": {},
   "source": [
    "Airborne pollutants dispersion from a stack."
   ]
  },
  {
   "cell_type": "code",
   "execution_count": null,
   "id": "3510eb6d",
   "metadata": {},
   "outputs": [],
   "source": [
    "plumes.run_plume(dtm, source, stability, 25, wind_direction, concentration,\n",
    "    wind_speed, stack_height, gas_speed, stack_diameter, smoke_temperature,\n",
    "    temperature,\n",
    "    \"..\\\\resources\\\\Analysis test data\\\\Analysis results\\\\plumes.tiff\")"
   ]
  },
  {
   "cell_type": "markdown",
   "id": "fd298b55",
   "metadata": {},
   "source": [
    "Pollutants dispersion in flowing water."
   ]
  },
  {
   "cell_type": "code",
   "execution_count": null,
   "id": "0e3b8f75",
   "metadata": {},
   "outputs": [],
   "source": [
    "sediments.run_sediment(dtm, source, 25, mean_flow_speed, mean_depth,\n",
    "    x_dispersion_coeff, y_dispersion_coeff, dredged_mass, flow_direction,\n",
    "    mean_sedimentation_velocity, time, time_intreval,\n",
    "    current_oscillatory_amplitude, tide,\n",
    "    \"..\\\\resources\\\\Analysis test data\\\\Analysis results\\\\sediments.tiff\")"
   ]
  }
 ],
 "metadata": {
  "kernelspec": {
   "display_name": "Julia 1.7.1",
   "language": "julia",
   "name": "julia-1.7"
  },
  "language_info": {
   "file_extension": ".jl",
   "mimetype": "application/julia",
   "name": "julia",
   "version": "1.7.1"
  }
 },
 "nbformat": 4,
 "nbformat_minor": 5
}
