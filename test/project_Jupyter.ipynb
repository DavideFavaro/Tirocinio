{
 "cells": [
  {
   "cell_type": "markdown",
   "id": "16a22b5b",
   "metadata": {},
   "source": [
    "## Loading of modules and packages"
   ]
  },
  {
   "cell_type": "markdown",
   "id": "53905509",
   "metadata": {},
   "source": [
    "Activate the Julia environment of the project."
   ]
  },
  {
   "cell_type": "code",
   "execution_count": null,
   "id": "23aa68e7",
   "metadata": {},
   "outputs": [],
   "source": [
    "using Pkg\n",
    "Pkg.activate(\"..\\\\\")"
   ]
  },
  {
   "cell_type": "markdown",
   "id": "06ab1ca8",
   "metadata": {},
   "source": [
    "Load the necessary packages."
   ]
  },
  {
   "cell_type": "code",
   "execution_count": null,
   "id": "a6551f59",
   "metadata": {},
   "outputs": [],
   "source": [
    "using ArchGDAL\n",
    "using GeoArrays\n",
    "using GeoStats\n",
    "using Plots"
   ]
  },
  {
   "cell_type": "markdown",
   "id": "9a7a040e",
   "metadata": {},
   "source": [
    "Load the necessary modules."
   ]
  },
  {
   "cell_type": "code",
   "execution_count": null,
   "id": "a21d199f",
   "metadata": {},
   "outputs": [],
   "source": [
    "include(\"..\\\\src\\\\Data Gathering\\\\GroundData.jl\")\n",
    "include(\"..\\\\src\\\\Data Gathering\\\\SatelliteData.jl\")\n",
    "\n",
    "include(\"..\\\\src\\\\Analysis\\\\Utils\\\\Functions.jl\")\n",
    "\n",
    "include(\"..\\\\src\\\\Analysis\\\\Aquifers.jl\")\n",
    "include(\"..\\\\src\\\\Analysis\\\\Lakes.jl\")\n",
    "include(\"..\\\\src\\\\Analysis\\\\Noises.jl\")\n",
    "include(\"..\\\\src\\\\Analysis\\\\Plumes.jl\")\n",
    "include(\"..\\\\src\\\\Analysis\\\\Sediments.jl\")"
   ]
  },
  {
   "cell_type": "markdown",
   "id": "0dab2b37",
   "metadata": {},
   "source": [
    "\n",
    "Aliasing of the modules to shorten the code."
   ]
  },
  {
   "cell_type": "code",
   "execution_count": null,
   "id": "db7be5e2",
   "metadata": {},
   "outputs": [],
   "source": [
    "# Packages\n",
    "const agd = ArchGDAL\n",
    "const ga = GeoArrays\n",
    "\n",
    "# Data gathering\n",
    "const grdt = GroundData\n",
    "const stdt = SatelliteData"
   ]
  },
  {
   "cell_type": "markdown",
   "id": "a401131c",
   "metadata": {},
   "source": [
    " "
   ]
  },
  {
   "cell_type": "markdown",
   "id": "24ec6c7d",
   "metadata": {},
   "source": [
    " "
   ]
  },
  {
   "cell_type": "markdown",
   "id": "47cbe7d7",
   "metadata": {},
   "source": [
    "## Code testing "
   ]
  },
  {
   "cell_type": "markdown",
   "id": "6aec8bd9",
   "metadata": {},
   "source": [
    "#### Data Gathering testing"
   ]
  },
  {
   "cell_type": "code",
   "execution_count": null,
   "id": "6c91da2d",
   "metadata": {},
   "outputs": [],
   "source": [
    "# DataFrame containing the gathered data, DataFrame containing the data that is not geolocalized. \n",
    "resmt, mresmt = grdt.getGroundData(:METEO, grdt.AA, grdt.FVG, grdt.L, grdt.T, grdt.V)"
   ]
  },
  {
   "cell_type": "code",
   "execution_count": null,
   "id": "b3fec34a",
   "metadata": {},
   "outputs": [],
   "source": [
    "# Parameters measured by the stations\n",
    "unique(resmt.parameter)"
   ]
  },
  {
   "cell_type": "code",
   "execution_count": null,
   "id": "68be03c0",
   "metadata": {},
   "outputs": [],
   "source": [
    "# All relative humidity measurements\n",
    "measurements = resmt[ resmt.parameter .== \"Umidità relativa\", : ]\n",
    "\n",
    "# All the measurement's values\n",
    "values = ( val = measurements.value, )\n",
    "\n",
    "# All the coordinates of the measurements\n",
    "coords = Tuple{Float64, Float64}[ (c[1], c[2]) for c in eachrow(measurements[:, [:longitude, :latitude]]) ]"
   ]
  },
  {
   "cell_type": "code",
   "execution_count": null,
   "id": "2fd997d2",
   "metadata": {},
   "outputs": [],
   "source": [
    "dtm_file = \"..\\\\resources\\\\Analysis data\\\\DTM_32.tiff\"\n",
    "dtm = agd.read(dtm_file)"
   ]
  },
  {
   "cell_type": "code",
   "execution_count": null,
   "id": "b5b04e41",
   "metadata": {},
   "outputs": [],
   "source": [
    "source_file = \"..\\\\resources\\\\Analysis data\\\\source_shapefile\\\\source_32.shp\"\n",
    "source = agd.read(source_file)\n",
    "src_geom = agd.getgeom(collect(agd.getlayer(source, 0))[1])"
   ]
  },
  {
   "cell_type": "code",
   "execution_count": null,
   "id": "ca1db166",
   "metadata": {},
   "outputs": [],
   "source": [
    "c1, c2 = Functions.toCoords.( Ref(dtm), [(1, 0), (2, 0)] )\n",
    "c2[1] - c1[1]"
   ]
  },
  {
   "cell_type": "code",
   "execution_count": null,
   "id": "d7f85103",
   "metadata": {},
   "outputs": [],
   "source": [
    "#= Based on:\n",
    "    https://juliaearth.github.io/GeoStats.jl/stable/\n",
    "=#\n",
    "\n",
    "# Georeference data\n",
    "D = georef(values, coords)\n",
    "\n",
    "# Estimation domain\n",
    "#G = CartesianGrid( (100, 100), src_geom, )\n",
    "G = CartesianGrid( (100, 100) )\n",
    "\n",
    "# Estimation problem\n",
    "problem = EstimationProblem(D, G, :val)\n",
    "\n",
    "# Solver from the list of solvers\n",
    "solver = Kriging( :val => ( variogram = GaussianVariogram(range=35.0), ) )\n",
    "\n",
    "# Solving problem\n",
    "solution = solve(problem, solver)\n",
    "\n",
    "# Solution plot\n",
    "contourf(solution, clabels=true)"
   ]
  },
  {
   "cell_type": "markdown",
   "id": "7ac1873d",
   "metadata": {},
   "source": [
    " "
   ]
  },
  {
   "cell_type": "markdown",
   "id": "efcc2752",
   "metadata": {},
   "source": [
    "#### Data Analysis testing"
   ]
  },
  {
   "cell_type": "markdown",
   "id": "fec2f1e5",
   "metadata": {},
   "source": [
    "##### Initial Setup"
   ]
  },
  {
   "cell_type": "code",
   "execution_count": null,
   "id": "ebfcb434",
   "metadata": {},
   "outputs": [],
   "source": [
    "# Digital Terrain Model, the main raster for the analysis, reppresents Veneto\n",
    "dtm_file = \"..\\\\resources\\\\Analysis data\\\\DTM_32.tiff\"\n",
    "dtm = agd.read(dtm_file)"
   ]
  },
  {
   "cell_type": "code",
   "execution_count": null,
   "id": "50cef8dd",
   "metadata": {},
   "outputs": [],
   "source": [
    "# Test impedence raster, contains data on the acoustic impedence of terrain\n",
    "impedence_file = \"..\\\\resources\\\\Analysis data\\\\impedances.tiff\"\n",
    "impd = agd.read(impedence_file)"
   ]
  },
  {
   "cell_type": "markdown",
   "id": "90852166",
   "metadata": {},
   "source": [
    "Test area for aquifers and lakes"
   ]
  },
  {
   "cell_type": "code",
   "execution_count": null,
   "id": "c91cd604",
   "metadata": {},
   "outputs": [],
   "source": [
    "# Shapefile holding the poligon reppresenting the surface of a lake or the\n",
    " # limits of an quifer\n",
    "area_file = \"..\\\\resources\\\\Analysis data\\\\area\\\\area.shp\"\n",
    "area = agd.read(area_file)"
   ]
  },
  {
   "cell_type": "markdown",
   "id": "278fa26c",
   "metadata": {},
   "source": [
    "Create a source point to test the analysis functions."
   ]
  },
  {
   "cell_type": "code",
   "execution_count": null,
   "id": "b92fc9c3",
   "metadata": {},
   "outputs": [],
   "source": [
    "# Coordinates of the source\n",
    "#   lat, lon = (11.930065824163105, 45.425861311724816) # WGS84\n",
    "lat, lon = (726454.9302346368, 5025993.899219433)\n",
    "# Path to the source shapefile\n",
    "source_dir = \"..\\\\resources\\\\Analysis data\\\\source_shapefile\"\n",
    "# Directory holding the `source` files\n",
    "!isdir(source_dir) && mkdir(source_dir)\n",
    "# Creation of a shapefile containing the point if not already existing\n",
    "if \"source_32.shp\" ∉ readdir(source_dir)\n",
    "    agd.create(\n",
    "        source_dir*\"\\\\source_32.shp\",\n",
    "        driver = agd.getdriver(\"ESRI Shapefile\")\n",
    "    ) do ds\n",
    "        agd.createlayer(\n",
    "            geom = agd.wkbPoint,\n",
    "            # spatialref = agd.importEPSG(4326) # WGS84\n",
    "            spatialref = agd.importEPSG(32632)\n",
    "        ) do layer\n",
    "            agd.createfeature(layer) do feature\n",
    "                agd.setgeom!(feature, agd.createpoint(lat, lon))\n",
    "            end\n",
    "            agd.copy(layer, dataset=ds)\n",
    "        end\n",
    "    end\n",
    "end\n",
    "source_file = source_dir*\"\\\\source_32.shp\"\n",
    "source = agd.read(source_file)"
   ]
  },
  {
   "cell_type": "code",
   "execution_count": null,
   "id": "23f1630c",
   "metadata": {},
   "outputs": [],
   "source": [
    "src_geom = agd.getgeom(collect(agd.getlayer(source, 0))[1])"
   ]
  },
  {
   "cell_type": "markdown",
   "id": "e721d3b1",
   "metadata": {},
   "source": [
    "#### Analysis functions execution."
   ]
  },
  {
   "cell_type": "markdown",
   "id": "d18312f5",
   "metadata": {},
   "source": [
    "##### Pollutants diffusion in an aquifer"
   ]
  },
  {
   "cell_type": "code",
   "execution_count": null,
   "id": "2bad82b7",
   "metadata": {},
   "outputs": [],
   "source": [
    "Aquifers.run_aquifer(\n",
    "    \"..\\\\resources\\\\Analysis results\\\\test_aquifer.tiff\",\n",
    "    dtm_file,\n",
    "    source_file,\n",
    "    area_file,\n",
    "    \"108-88-3\",\n",
    "    100.0,\n",
    "    1000.0,\n",
    "    45,\n",
    "    20.0,\n",
    "    \"sand\",\n",
    "    tolerance = 2,\n",
    "    time = 10,\n",
    "    orthogonal_width = 10.0,\n",
    "    mixing_zone_depth = 1580.0,\n",
    "    algorithm = :domenico\n",
    ")"
   ]
  },
  {
   "cell_type": "code",
   "execution_count": null,
   "id": "0f0d46b7",
   "metadata": {},
   "outputs": [],
   "source": [
    "# Remove the source point value\n",
    "rast = ga.read(\"..\\\\resources\\\\Analysis results\\\\test_aquifer.tiff\")\n",
    "replace!( rast, maximum(skipmissing(rast.A)) => missing )\n",
    "#Plot the results of the analysis\n",
    "heatmap(\n",
    "    rast,\n",
    "    plot_title = \"Aquifer pollution diffusion\",\n",
    "    xlabel = \"X coordinate (m)\",\n",
    "    ylabel = \"Y coordinate (m)\",\n",
    "    color = :cividis\n",
    ")\n",
    "#Add the source\n",
    "plot!(src_geom)"
   ]
  },
  {
   "cell_type": "markdown",
   "id": "783913da",
   "metadata": {},
   "source": [
    "<br> "
   ]
  },
  {
   "cell_type": "markdown",
   "id": "5a2bf6c4",
   "metadata": {},
   "source": [
    "##### Polutants dispersion in lakes"
   ]
  },
  {
   "cell_type": "code",
   "execution_count": null,
   "id": "d8d9437c",
   "metadata": {},
   "outputs": [],
   "source": [
    "Lakes.run_lake(\n",
    "    \"..\\\\resources\\\\Analysis results\\\\test_lake.tiff\",\n",
    "    dtm_file,\n",
    "    source_file,\n",
    "    area_file,\n",
    "    2000.0,\n",
    "    135,\n",
    "    0.03,\n",
    "    10.0,\n",
    "    tolerance = 2,\n",
    "    fickian_x = 4.0,\n",
    "    fickian_y = 3.0\n",
    ")"
   ]
  },
  {
   "cell_type": "code",
   "execution_count": null,
   "id": "91842d36",
   "metadata": {},
   "outputs": [],
   "source": [
    "# Remove the source point value\n",
    "rast = ga.read(\"..\\\\resources\\\\Analysis results\\\\test_lake.tiff\")\n",
    "replace!( rast, maximum(skipmissing(rast.A)) => missing )\n",
    "#Plot the results of the analysis\n",
    "heatmap(\n",
    "    rast,\n",
    "    plot_title = \"Lake pollution diffusion\",\n",
    "    xlabel = \"X coordinate (m)\",\n",
    "    ylabel = \"Y coordinate (m)\",\n",
    "    color = :inferno\n",
    ")\n",
    "#Add the source\n",
    "plot!(src_geom)"
   ]
  },
  {
   "cell_type": "markdown",
   "id": "85782e10",
   "metadata": {},
   "source": [
    "<br>"
   ]
  },
  {
   "cell_type": "markdown",
   "id": "47010c14",
   "metadata": {},
   "source": [
    "##### Noise pollution"
   ]
  },
  {
   "cell_type": "code",
   "execution_count": null,
   "id": "db9feb88",
   "metadata": {},
   "outputs": [],
   "source": [
    "Noises.run_noise(\n",
    "    \"..\\\\resources\\\\Analysis results\\\\test_noise.tiff\",\n",
    "    dtm_file,\n",
    "    impedence_file,\n",
    "    source_file,\n",
    "    293.15,\n",
    "    0.2,\n",
    "    110.0,\n",
    "    400.0,\n",
    ")"
   ]
  },
  {
   "cell_type": "code",
   "execution_count": null,
   "id": "627b73d9",
   "metadata": {},
   "outputs": [],
   "source": [
    "# Remove the source point value\n",
    "rast = ga.read(\"..\\\\resources\\\\Analysis results\\\\test_noise.tiff\")\n",
    "replace!( rast, maximum(skipmissing(rast.A)) => missing )\n",
    "#Plot the results of the analysis\n",
    "heatmap(\n",
    "    rast,\n",
    "    plot_title = \"Noise pollution\",\n",
    "    xlabel = \"X coordinate (m)\",\n",
    "    ylabel = \"Y coordinate (m)\",\n",
    "    colorbar_title = \"Noise level (dB S.P.L.)\",\n",
    "    color = :winter\n",
    ")\n",
    "#Add the source\n",
    "plot!(src_geom)"
   ]
  },
  {
   "cell_type": "markdown",
   "id": "ebe83f8a",
   "metadata": {},
   "source": [
    "<br>"
   ]
  },
  {
   "cell_type": "markdown",
   "id": "347f99d4",
   "metadata": {},
   "source": [
    "##### Airborne pollutants dispersion from a stack"
   ]
  },
  {
   "cell_type": "code",
   "execution_count": null,
   "id": "3510eb6d",
   "metadata": {},
   "outputs": [],
   "source": [
    "Plumes.run_plume(\n",
    "    \"..\\\\resources\\\\Analysis results\\\\test_plume.tiff\",\n",
    "    dtm_file,\n",
    "    source_file,\n",
    "    \"a\",\n",
    "    \"c\",\n",
    "    10000.0,\n",
    "    225,\n",
    "    0.1,\n",
    "    80.0,\n",
    "    1.0,\n",
    "    tolerance = 2,\n",
    "    gas_velocity = 0.1,\n",
    "    gas_temperature = 150.0,\n",
    "    temperature = 18.0\n",
    ")"
   ]
  },
  {
   "cell_type": "code",
   "execution_count": null,
   "id": "599c2f47",
   "metadata": {},
   "outputs": [],
   "source": [
    "# Remove the source point value\n",
    "rast = ga.read(\"..\\\\resources\\\\Analysis results\\\\test_plume.tiff\")\n",
    "replace!( rast, maximum(skipmissing(rast.A)) => missing )\n",
    "#Plot the results of the analysis\n",
    "heatmap(\n",
    "    rast,\n",
    "    plot_title = \"Plume pollution diffusion\",\n",
    "    xlabel = \"X coordinate (m)\",\n",
    "    ylabel = \"Y coordinate (m)\",\n",
    "    colorbar_title = \"Substance concentration\",\n",
    "    color = :seaborn_rocket_gradient\n",
    ")\n",
    "#Add the source\n",
    "plot!(src_geom)"
   ]
  },
  {
   "cell_type": "markdown",
   "id": "52a09cdf",
   "metadata": {},
   "source": [
    "<br>"
   ]
  },
  {
   "cell_type": "markdown",
   "id": "fd298b55",
   "metadata": {},
   "source": [
    "##### Pollutants sedimentation"
   ]
  },
  {
   "cell_type": "code",
   "execution_count": null,
   "id": "0e3b8f75",
   "metadata": {},
   "outputs": [],
   "source": [
    "Sediments.run_sediment(\n",
    "    \"..\\\\resources\\\\Analysis results\\\\test_sediment.tiff\",\n",
    "    dtm_file,\n",
    "    source_file,\n",
    "    0.03,\n",
    "    13.0,\n",
    "    1.0,\n",
    "    10.0,\n",
    "    4.0,\n",
    "    315,\n",
    "    0.0359,\n",
    "    100,\n",
    "    1,\n",
    "    tolerance = 2\n",
    ")"
   ]
  },
  {
   "cell_type": "code",
   "execution_count": null,
   "id": "2cff760e",
   "metadata": {},
   "outputs": [],
   "source": [
    "# Remove the source point value\n",
    "rast = ga.read(\"..\\\\resources\\\\Analysis results\\\\test_sediment.tiff\")\n",
    "replace!( rast, maximum(skipmissing(rast.A)) => missing )\n",
    "#Plot the results of the analysis\n",
    "heatmap(\n",
    "    rast,\n",
    "    plot_title = \"Sediment pollution diffusion\",\n",
    "    xlabel = \"X coordinate (m)\",\n",
    "    ylabel = \"Y coordinate (m)\",\n",
    "    color = :viridis\n",
    ")\n",
    "#Add the source\n",
    "plot!(src_geom)"
   ]
  },
  {
   "cell_type": "code",
   "execution_count": null,
   "id": "adcdfccb",
   "metadata": {},
   "outputs": [],
   "source": []
  }
 ],
 "metadata": {
  "kernelspec": {
   "display_name": "Julia 1.7.1",
   "language": "julia",
   "name": "julia-1.7"
  },
  "language_info": {
   "file_extension": ".jl",
   "mimetype": "application/julia",
   "name": "julia",
   "version": "1.7.1"
  }
 },
 "nbformat": 4,
 "nbformat_minor": 5
}
