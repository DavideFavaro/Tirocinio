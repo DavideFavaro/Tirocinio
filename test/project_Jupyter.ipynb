{
 "cells": [
  {
   "cell_type": "markdown",
   "id": "16a22b5b",
   "metadata": {},
   "source": [
    "## Loading of modules and packages"
   ]
  },
  {
   "cell_type": "markdown",
   "id": "53905509",
   "metadata": {},
   "source": [
    "Activate the Julia environment of the project."
   ]
  },
  {
   "cell_type": "code",
   "execution_count": 1,
   "id": "23aa68e7",
   "metadata": {},
   "outputs": [
    {
     "name": "stderr",
     "output_type": "stream",
     "text": [
      "\u001b[32m\u001b[1m  Activating\u001b[22m\u001b[39m project at `C:\\Users\\Lenovo\\Documents\\GitHub\\Tirocinio`\n"
     ]
    }
   ],
   "source": [
    "using Pkg\n",
    "Pkg.activate(\"..\\\\\")"
   ]
  },
  {
   "cell_type": "markdown",
   "id": "06ab1ca8",
   "metadata": {},
   "source": [
    "Load the necessary packages."
   ]
  },
  {
   "cell_type": "code",
   "execution_count": 2,
   "id": "a6551f59",
   "metadata": {},
   "outputs": [],
   "source": [
    "using ArchGDAL\n",
    "using GeoStats\n",
    "using Plots"
   ]
  },
  {
   "cell_type": "markdown",
   "id": "9a7a040e",
   "metadata": {},
   "source": [
    "Load the necessary modules."
   ]
  },
  {
   "cell_type": "code",
   "execution_count": 3,
   "id": "a21d199f",
   "metadata": {},
   "outputs": [
    {
     "data": {
      "text/plain": [
       "Main.Sediments"
      ]
     },
     "execution_count": 3,
     "metadata": {},
     "output_type": "execute_result"
    }
   ],
   "source": [
    "include(\"..\\\\src\\\\Data Gathering\\\\GroundData.jl\")\n",
    "include(\"..\\\\src\\\\Data Gathering\\\\SatelliteData.jl\")\n",
    "\n",
    "include(\"..\\\\src\\\\Analysis\\\\Aquifers.jl\")\n",
    "include(\"..\\\\src\\\\Analysis\\\\Lakes.jl\")\n",
    "include(\"..\\\\src\\\\Analysis\\\\Noises.jl\")\n",
    "include(\"..\\\\src\\\\Analysis\\\\Plumes.jl\")\n",
    "include(\"..\\\\src\\\\Analysis\\\\Sediments.jl\")"
   ]
  },
  {
   "cell_type": "markdown",
   "id": "0dab2b37",
   "metadata": {},
   "source": [
    "\n",
    "Aliasing of the modules to shorten the code."
   ]
  },
  {
   "cell_type": "code",
   "execution_count": 4,
   "id": "db7be5e2",
   "metadata": {},
   "outputs": [
    {
     "data": {
      "text/plain": [
       "Main.SatelliteData"
      ]
     },
     "execution_count": 4,
     "metadata": {},
     "output_type": "execute_result"
    }
   ],
   "source": [
    "# Modules\n",
    "const agd = ArchGDAL\n",
    "\n",
    "# Data gathering\n",
    "const grdt = GroundData\n",
    "const stdt = SatelliteData"
   ]
  },
  {
   "cell_type": "markdown",
   "id": "a401131c",
   "metadata": {},
   "source": [
    " "
   ]
  },
  {
   "cell_type": "markdown",
   "id": "24ec6c7d",
   "metadata": {},
   "source": [
    " "
   ]
  },
  {
   "cell_type": "markdown",
   "id": "47cbe7d7",
   "metadata": {},
   "source": [
    "## Code testing "
   ]
  },
  {
   "cell_type": "markdown",
   "id": "6aec8bd9",
   "metadata": {},
   "source": [
    "#### Data Gathering testing"
   ]
  },
  {
   "cell_type": "code",
   "execution_count": null,
   "id": "6c91da2d",
   "metadata": {},
   "outputs": [],
   "source": [
    "# DataFrame containing the gathered data, DataFrame containing the data that is not geolocalized. \n",
    "resmt, mresmt = grdt.getGroundData(:METEO, grdt.AA, grdt.FVG, grdt.L, grdt.T, grdt.V)"
   ]
  },
  {
   "cell_type": "code",
   "execution_count": null,
   "id": "b3fec34a",
   "metadata": {},
   "outputs": [],
   "source": [
    "# Parameters measured by the stations\n",
    "unique(resmt.parameter)"
   ]
  },
  {
   "cell_type": "code",
   "execution_count": null,
   "id": "68be03c0",
   "metadata": {},
   "outputs": [],
   "source": [
    "# All relative humidity measurements\n",
    "measurements = resmt[ resmt.parameter .== \"Umidità relativa\", : ]\n",
    "\n",
    "# All the measurement's values\n",
    "values = ( val = measurements.value, )\n",
    "\n",
    "# All the coordinates of the measurements\n",
    "coord = Tuple{Float64, Float64}[ (c[1], c[2]) for c in eachrow(measurements[:, [:longitude, :latitude]]) ]"
   ]
  },
  {
   "cell_type": "code",
   "execution_count": null,
   "id": "d7f85103",
   "metadata": {},
   "outputs": [],
   "source": [
    "#= Based on:\n",
    "    https://juliaearth.github.io/GeoStats.jl/stable/\n",
    "=#\n",
    "\n",
    "# Georeference data\n",
    "D = georef(values, coord)\n",
    "\n",
    "# Estimation domain\n",
    "G = CartesianGrid(100, 100)\n",
    "\n",
    "# Estimation problem\n",
    "problem = EstimationProblem(D, G, :val)\n",
    "\n",
    "# Solver from the list of solvers\n",
    "solver = Kriging( :val => ( variogram = GaussianVariogram(range=35.0), ) )\n",
    "\n",
    "# Solving problem\n",
    "solution = solve(problem, solver)\n",
    "\n",
    "# Solution plot\n",
    "contourf(solution, clabels=true)"
   ]
  },
  {
   "cell_type": "markdown",
   "id": "7ac1873d",
   "metadata": {},
   "source": [
    " "
   ]
  },
  {
   "cell_type": "markdown",
   "id": "efcc2752",
   "metadata": {},
   "source": [
    "#### Data Analysis testing"
   ]
  },
  {
   "cell_type": "markdown",
   "id": "fec2f1e5",
   "metadata": {},
   "source": [
    "##### Initial Setup"
   ]
  },
  {
   "cell_type": "code",
   "execution_count": 5,
   "id": "ebfcb434",
   "metadata": {},
   "outputs": [
    {
     "data": {
      "text/plain": [
       "GDAL Dataset (Driver: GTiff/GeoTIFF)\n",
       "File(s): \n",
       "  ..\\resources\\Analysis data\\DTM_32.tiff\n",
       "\n",
       "Dataset (width x height): 7740 x 8440 (pixels)\n",
       "Number of raster bands: 1\n",
       "  [GA_ReadOnly] Band 1 (Gray): 7740 x 8440 (Float32)\n"
      ]
     },
     "execution_count": 5,
     "metadata": {},
     "output_type": "execute_result"
    }
   ],
   "source": [
    "# Digital Terrain Model, the main raster for the analysis, reppresents Veneto\n",
    "dtm_file = \"..\\\\resources\\\\Analysis data\\\\DTM_32.tiff\"\n",
    "dtm = agd.read(dtm_file)"
   ]
  },
  {
   "cell_type": "markdown",
   "id": "90852166",
   "metadata": {},
   "source": [
    "Test area for aquifers and lakes"
   ]
  },
  {
   "cell_type": "code",
   "execution_count": 6,
   "id": "c91cd604",
   "metadata": {},
   "outputs": [
    {
     "data": {
      "text/plain": [
       "GDAL Dataset (Driver: ESRI Shapefile/ESRI Shapefile)\n",
       "File(s): \n",
       "  ..\\resources\\Analysis data\\area\\area.shp\n",
       "  ..\\resources\\Analysis data\\area\\area.shx\n",
       "  ..\\resources\\Analysis data\\area\\area.dbf\n",
       "  ..\\resources\\Analysis data\\area\\area.prj\n",
       "\n",
       "Number of feature layers: 1\n",
       "  Layer 0: area (wkbPolygon)\n"
      ]
     },
     "execution_count": 6,
     "metadata": {},
     "output_type": "execute_result"
    }
   ],
   "source": [
    "# Shapefile holding the poligon reppresenting the surface of a lake or the\n",
    " # limits of an quifer\n",
    "area_file = \"..\\\\resources\\\\Analysis data\\\\area\\\\area.shp\"\n",
    "dtm = agd.read(area_file)"
   ]
  },
  {
   "cell_type": "markdown",
   "id": "278fa26c",
   "metadata": {},
   "source": [
    "Create a source point to test the analysis functions."
   ]
  },
  {
   "cell_type": "code",
   "execution_count": 7,
   "id": "b92fc9c3",
   "metadata": {},
   "outputs": [
    {
     "data": {
      "text/plain": [
       "GDAL Dataset (Driver: ESRI Shapefile/ESRI Shapefile)\n",
       "File(s): \n",
       "  ..\\resources\\Analysis data\\source_shapefile\\source_32.shp\n",
       "  ..\\resources\\Analysis data\\source_shapefile\\source_32.shx\n",
       "  ..\\resources\\Analysis data\\source_shapefile\\source_32.dbf\n",
       "  ..\\resources\\Analysis data\\source_shapefile\\source_32.prj\n",
       "\n",
       "Number of feature layers: 1\n",
       "  Layer 0: source_32 (wkbPoint)\n"
      ]
     },
     "execution_count": 7,
     "metadata": {},
     "output_type": "execute_result"
    }
   ],
   "source": [
    "# Coordinates of the source\n",
    "#   lat, lon = (11.930065824163105, 45.425861311724816) # WGS84\n",
    "lat, lon = (726454.9302346368, 5025993.899219433)\n",
    "# Path to the source shapefile\n",
    "source_dir = \"..\\\\resources\\\\Analysis data\\\\source_shapefile\"\n",
    "# Directory holding the `source` files\n",
    "!isdir(source_dir) && mkdir(source_dir)\n",
    "# Creation of a shapefile containing the point if not already existing\n",
    "if \"source_32.shp\" ∉ readdir(source_dir)\n",
    "    agd.create(\n",
    "        source_dir*\"\\\\source_32.shp\",\n",
    "        driver = agd.getdriver(\"ESRI Shapefile\")\n",
    "    ) do ds\n",
    "        agd.createlayer(\n",
    "            geom = agd.wkbPoint,\n",
    "            # spatialref = agd.importEPSG(4326) # WGS84\n",
    "            spatialref = agd.importEPSG(32632)\n",
    "        ) do layer\n",
    "            agd.createfeature(layer) do feature\n",
    "                agd.setgeom!(feature, agd.createpoint(lat, lon))\n",
    "            end\n",
    "            agd.copy(layer, dataset=ds)\n",
    "        end\n",
    "    end\n",
    "end\n",
    "source_file = source_dir*\"\\\\source_32.shp\"\n",
    "source = agd.read(source_file)"
   ]
  },
  {
   "cell_type": "markdown",
   "id": "e721d3b1",
   "metadata": {},
   "source": [
    "Analysis functions execution."
   ]
  },
  {
   "cell_type": "markdown",
   "id": "d18312f5",
   "metadata": {},
   "source": [
    "Pollutants diffusion in an aquifer"
   ]
  },
  {
   "cell_type": "code",
   "execution_count": 8,
   "id": "2bad82b7",
   "metadata": {},
   "outputs": [
    {
     "name": "stdout",
     "output_type": "stream",
     "text": [
      "477 milliseconds\n"
     ]
    }
   ],
   "source": [
    "Aquifers.run_aquifer(\n",
    "    dtm_file,\n",
    "    source_file,\n",
    "    area_file,\n",
    "    \"108-88-3\",\n",
    "    100.0,\n",
    "    1000.0,\n",
    "    45,\n",
    "    20.0,\n",
    "    \"sand\",\n",
    "    tolerance = 2,\n",
    "    time = 10,\n",
    "    orthogonal_width = 10.0,\n",
    "    mixing_zone_depth = 1580.0,\n",
    "    algorithm = :domenico,\n",
    "    output_path = \"..\\\\resources\\\\Analysis results\\\\test_aquifer.tiff\"\n",
    ")"
   ]
  },
  {
   "cell_type": "markdown",
   "id": "5a2bf6c4",
   "metadata": {},
   "source": [
    "Polutants dispersion in lakes"
   ]
  },
  {
   "cell_type": "code",
   "execution_count": 9,
   "id": "dec530b3",
   "metadata": {},
   "outputs": [
    {
     "name": "stdout",
     "output_type": "stream",
     "text": [
      "1080 milliseconds\n"
     ]
    }
   ],
   "source": [
    "Lakes.run_lake(\n",
    "    dtm_file,\n",
    "    source_file,\n",
    "    area_file,\n",
    "    2000.0,\n",
    "    135,\n",
    "    0.03,\n",
    "    10.0,\n",
    "    tolerance = 2,\n",
    "    fickian_x = 4.0,\n",
    "    fickian_y = 3.0,\n",
    "    output_path = \"..\\\\resources\\\\Analysis results\\\\test_lake.tiff\"\n",
    ")"
   ]
  },
  {
   "cell_type": "markdown",
   "id": "144530bd",
   "metadata": {},
   "source": [
    "Noise pollution"
   ]
  },
  {
   "cell_type": "code",
   "execution_count": null,
   "id": "db9feb88",
   "metadata": {},
   "outputs": [],
   "source": [
    "Noises.run_noise(\n",
    "    dem_file = dtm_file,\n",
    "    source_file = source_file,\n",
    "    temperature_K = 293.15,\n",
    "    relative_humidity = 0.2,\n",
    "    intensity_dB = 110.0,\n",
    "    frequency = 400.0,\n",
    "    output_path = \"..\\\\resources\\\\Analysis results\\\\test_noise.tiff\"\n",
    ")"
   ]
  },
  {
   "cell_type": "markdown",
   "id": "347f99d4",
   "metadata": {},
   "source": [
    "Airborne pollutants dispersion from a stack"
   ]
  },
  {
   "cell_type": "code",
   "execution_count": null,
   "id": "3510eb6d",
   "metadata": {},
   "outputs": [],
   "source": [
    "Plumes.run_plume(\n",
    "    dtm_file,\n",
    "    source_file,\n",
    "    \"a\",\n",
    "    \"c\",\n",
    "    10000.0,\n",
    "    225,\n",
    "    0.1,\n",
    "    80.0,\n",
    "    1.0,\n",
    "    tolerance = 2,\n",
    "    gas_velocity = 0.1,\n",
    "    gas_temperature = 150.0,\n",
    "    temperature = 18.0,\n",
    "    output_path = \"..\\\\resources\\\\Analysis results\\\\test_plumes.tiff\"\n",
    ")"
   ]
  },
  {
   "cell_type": "markdown",
   "id": "fd298b55",
   "metadata": {},
   "source": [
    "Pollutants sedimentation"
   ]
  },
  {
   "cell_type": "code",
   "execution_count": null,
   "id": "0e3b8f75",
   "metadata": {},
   "outputs": [],
   "source": [
    "Sediments.run_sediment(\n",
    "    dtm_file,\n",
    "    source_file,\n",
    "    0.03,\n",
    "    13.0,\n",
    "    1.0,\n",
    "    10.0,\n",
    "    4.0,\n",
    "    315,\n",
    "    0.0359,\n",
    "    100,\n",
    "    1,\n",
    "    tolerance = 2,\n",
    "    output_path = \"..\\\\resources\\\\Analysis results\\\\test_sediments.tiff\"\n",
    ")"
   ]
  },
  {
   "cell_type": "code",
   "execution_count": null,
   "id": "2cff760e",
   "metadata": {},
   "outputs": [],
   "source": []
  }
 ],
 "metadata": {
  "kernelspec": {
   "display_name": "Julia 1.7.1",
   "language": "julia",
   "name": "julia-1.7"
  },
  "language_info": {
   "file_extension": ".jl",
   "mimetype": "application/julia",
   "name": "julia",
   "version": "1.7.1"
  }
 },
 "nbformat": 4,
 "nbformat_minor": 5
}
